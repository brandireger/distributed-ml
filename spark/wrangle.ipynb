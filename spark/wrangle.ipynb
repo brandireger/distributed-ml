{
 "cells": [
  {
   "cell_type": "markdown",
   "metadata": {},
   "source": [
    "### 1. Read the case, department, and source data into their own spark dataframes."
   ]
  },
  {
   "cell_type": "code",
   "execution_count": 1,
   "metadata": {},
   "outputs": [],
   "source": [
    "from pyspark.sql import SparkSession\n",
    "from pyspark.sql.functions import *\n",
    "\n",
    "spark = SparkSession.builder.getOrCreate()"
   ]
  },
  {
   "cell_type": "code",
   "execution_count": 2,
   "metadata": {},
   "outputs": [],
   "source": [
    "case_df = spark.read.csv(\"case.csv\", sep=\",\", header=True, inferSchema=True)\n",
    "dept_df = spark.read.csv(\"dept.csv\", sep=\",\", header=True, inferSchema=True)\n",
    "source_df = spark.read.csv(\"source.csv\", sep=\",\", header=True, inferSchema=True)"
   ]
  },
  {
   "cell_type": "code",
   "execution_count": 3,
   "metadata": {},
   "outputs": [
    {
     "name": "stdout",
     "output_type": "stream",
     "text": [
      "-RECORD 0------------------------------------\n",
      " case_id              | 1014127332           \n",
      " case_opened_date     | 1/1/18 0:42          \n",
      " case_closed_date     | 1/1/18 12:29         \n",
      " SLA_due_date         | 9/26/20 0:42         \n",
      " case_late            | NO                   \n",
      " num_days_late        | -998.5087616000001   \n",
      " case_closed          | YES                  \n",
      " dept_division        | Field Operations     \n",
      " service_request_type | Stray Animal         \n",
      " SLA_days             | 999.0                \n",
      " case_status          | Closed               \n",
      " source_id            | svcCRMLS             \n",
      " request_address      | 2315  EL PASO ST,... \n",
      " council_district     | 5                    \n",
      "-RECORD 1------------------------------------\n",
      " case_id              | 1014127333           \n",
      " case_opened_date     | 1/1/18 0:46          \n",
      " case_closed_date     | 1/3/18 8:11          \n",
      " SLA_due_date         | 1/5/18 8:30          \n",
      " case_late            | NO                   \n",
      " num_days_late        | -2.0126041669999997  \n",
      " case_closed          | YES                  \n",
      " dept_division        | Storm Water          \n",
      " service_request_type | Removal Of Obstru... \n",
      " SLA_days             | 4.322222222          \n",
      " case_status          | Closed               \n",
      " source_id            | svcCRMSS             \n",
      " request_address      | 2215  GOLIAD RD, ... \n",
      " council_district     | 3                    \n",
      "only showing top 2 rows\n",
      "\n"
     ]
    }
   ],
   "source": [
    "case_df.show(2, vertical=True)"
   ]
  },
  {
   "cell_type": "code",
   "execution_count": 4,
   "metadata": {},
   "outputs": [
    {
     "name": "stdout",
     "output_type": "stream",
     "text": [
      "-RECORD 0--------------------------------------\n",
      " dept_division          | 311 Call Center      \n",
      " dept_name              | Customer Service     \n",
      " standardized_dept_name | Customer Service     \n",
      " dept_subject_to_SLA    | YES                  \n",
      "-RECORD 1--------------------------------------\n",
      " dept_division          | Brush                \n",
      " dept_name              | Solid Waste Manag... \n",
      " standardized_dept_name | Solid Waste          \n",
      " dept_subject_to_SLA    | YES                  \n",
      "only showing top 2 rows\n",
      "\n"
     ]
    }
   ],
   "source": [
    "dept_df.show(2, vertical=True)"
   ]
  },
  {
   "cell_type": "code",
   "execution_count": 5,
   "metadata": {},
   "outputs": [
    {
     "name": "stdout",
     "output_type": "stream",
     "text": [
      "-RECORD 0---------------------------\n",
      " source_id       | 100137           \n",
      " source_username | Merlene Blodgett \n",
      "-RECORD 1---------------------------\n",
      " source_id       | 103582           \n",
      " source_username | Carmen Cura      \n",
      "only showing top 2 rows\n",
      "\n"
     ]
    }
   ],
   "source": [
    "source_df.show(2, vertical=True)"
   ]
  },
  {
   "cell_type": "markdown",
   "metadata": {},
   "source": [
    "### 2. Write the code necessary to store the source data in both csv and json format, store these as sources_csv and sources_json"
   ]
  },
  {
   "cell_type": "code",
   "execution_count": 6,
   "metadata": {},
   "outputs": [],
   "source": [
    "(\n",
    "    source_df.write.format(\"csv\")\n",
    "    .mode(\"overwrite\")\n",
    "    .option(\"header\", \"true\")\n",
    "    .save(\"sources_csv\")\n",
    ")\n",
    "\n",
    "(\n",
    "    source_df.write.format(\"json\")\n",
    "    .mode(\"overwrite\")\n",
    "    .option(\"header\", \"true\")\n",
    "    .save(\"sources_json\")\n",
    ")"
   ]
  },
  {
   "cell_type": "markdown",
   "metadata": {},
   "source": [
    "Inspect your folder structure. What do you notice?"
   ]
  },
  {
   "cell_type": "markdown",
   "metadata": {},
   "source": [
    "> There are 3 files: 1 hidden, one that is an empty text file named \\_SUCCESS, and then the actual json/csv file i made. The name I gave it in the code became the name of the folder, and the json/csv file name itself is basically gibberish."
   ]
  },
  {
   "cell_type": "markdown",
   "metadata": {},
   "source": [
    "### 3. Inspect the data in your dataframes. Are the data types appropriate? Write the code necessary to cast the values to the appropriate types."
   ]
  },
  {
   "cell_type": "code",
   "execution_count": 7,
   "metadata": {},
   "outputs": [
    {
     "name": "stdout",
     "output_type": "stream",
     "text": [
      "-RECORD 0------------------------------------\n",
      " case_id              | 1014127332           \n",
      " case_opened_date     | 1/1/18 0:42          \n",
      " case_closed_date     | 1/1/18 12:29         \n",
      " SLA_due_date         | 9/26/20 0:42         \n",
      " case_late            | NO                   \n",
      " num_days_late        | -998.5087616000001   \n",
      " case_closed          | YES                  \n",
      " dept_division        | Field Operations     \n",
      " service_request_type | Stray Animal         \n",
      " SLA_days             | 999.0                \n",
      " case_status          | Closed               \n",
      " source_id            | svcCRMLS             \n",
      " request_address      | 2315  EL PASO ST,... \n",
      " council_district     | 5                    \n",
      "-RECORD 1------------------------------------\n",
      " case_id              | 1014127333           \n",
      " case_opened_date     | 1/1/18 0:46          \n",
      " case_closed_date     | 1/3/18 8:11          \n",
      " SLA_due_date         | 1/5/18 8:30          \n",
      " case_late            | NO                   \n",
      " num_days_late        | -2.0126041669999997  \n",
      " case_closed          | YES                  \n",
      " dept_division        | Storm Water          \n",
      " service_request_type | Removal Of Obstru... \n",
      " SLA_days             | 4.322222222          \n",
      " case_status          | Closed               \n",
      " source_id            | svcCRMSS             \n",
      " request_address      | 2215  GOLIAD RD, ... \n",
      " council_district     | 3                    \n",
      "only showing top 2 rows\n",
      "\n"
     ]
    }
   ],
   "source": [
    "case_df.show(2, vertical=True)"
   ]
  },
  {
   "cell_type": "code",
   "execution_count": 8,
   "metadata": {},
   "outputs": [
    {
     "name": "stdout",
     "output_type": "stream",
     "text": [
      "root\n",
      " |-- case_id: integer (nullable = true)\n",
      " |-- case_opened_date: string (nullable = true)\n",
      " |-- case_closed_date: string (nullable = true)\n",
      " |-- SLA_due_date: string (nullable = true)\n",
      " |-- case_late: string (nullable = true)\n",
      " |-- num_days_late: double (nullable = true)\n",
      " |-- case_closed: string (nullable = true)\n",
      " |-- dept_division: string (nullable = true)\n",
      " |-- service_request_type: string (nullable = true)\n",
      " |-- SLA_days: double (nullable = true)\n",
      " |-- case_status: string (nullable = true)\n",
      " |-- source_id: string (nullable = true)\n",
      " |-- request_address: string (nullable = true)\n",
      " |-- council_district: integer (nullable = true)\n",
      "\n"
     ]
    }
   ],
   "source": [
    "case_df.printSchema()"
   ]
  },
  {
   "cell_type": "code",
   "execution_count": 9,
   "metadata": {},
   "outputs": [
    {
     "name": "stdout",
     "output_type": "stream",
     "text": [
      "-RECORD 0------------------------------------\n",
      " case_id              | 1014127332           \n",
      " case_opened_date     | 2018-01-01 00:42:00  \n",
      " case_closed_date     | 2018-01-01 12:29:00  \n",
      " case_due_date        | 2020-09-26 00:42:00  \n",
      " case_late            | false                \n",
      " num_days_late        | -998.5087616000001   \n",
      " case_closed          | true                 \n",
      " dept_division        | Field Operations     \n",
      " service_request_type | Stray Animal         \n",
      " SLA_days             | 999.0                \n",
      " case_status          | Closed               \n",
      " source_id            | svcCRMLS             \n",
      " request_address      | 2315  EL PASO ST,... \n",
      " council_district     | 0005                 \n",
      "-RECORD 1------------------------------------\n",
      " case_id              | 1014127333           \n",
      " case_opened_date     | 2018-01-01 00:46:00  \n",
      " case_closed_date     | 2018-01-03 08:11:00  \n",
      " case_due_date        | 2018-01-05 08:30:00  \n",
      " case_late            | false                \n",
      " num_days_late        | -2.0126041669999997  \n",
      " case_closed          | true                 \n",
      " dept_division        | Storm Water          \n",
      " service_request_type | Removal Of Obstru... \n",
      " SLA_days             | 4.322222222          \n",
      " case_status          | Closed               \n",
      " source_id            | svcCRMSS             \n",
      " request_address      | 2215  GOLIAD RD, ... \n",
      " council_district     | 0003                 \n",
      "only showing top 2 rows\n",
      "\n"
     ]
    }
   ],
   "source": [
    "#1 SLA_due_date shuld be renamed to case_due_date\n",
    "#2 council_district should be string\n",
    "#3 case_opened_date, case_closed_date, SLA_due_date should be datetime\n",
    "#4 case_late, case_closed should be boolean \n",
    "\n",
    "case_df = (case_df\n",
    "           .withColumnRenamed('SLA_due_date', 'case_due_date')  #1\n",
    "           .withColumn('case_late', col('case_late') == 'YES')  #4\n",
    "           .withColumn('case_closed', col('case_closed') == 'YES')  #4\n",
    "           .withColumn('council_district', format_string('%04d', col('council_district')))  #2\n",
    "           .withColumn('case_opened_date', to_timestamp(col('case_opened_date'), 'M/d/yy H:mm'))  #3\n",
    "           .withColumn('case_closed_date', to_timestamp(col('case_closed_date'), 'M/d/yy H:mm'))  #3\n",
    "           .withColumn('case_due_date', to_timestamp(col('case_due_date'), 'M/d/yy H:mm'))  #3\n",
    "          )\n",
    "\n",
    "case_df.show(2, vertical=True)"
   ]
  },
  {
   "cell_type": "code",
   "execution_count": 10,
   "metadata": {},
   "outputs": [
    {
     "name": "stdout",
     "output_type": "stream",
     "text": [
      "-RECORD 0--------------------------------------\n",
      " dept_division          | 311 Call Center      \n",
      " dept_name              | Customer Service     \n",
      " standardized_dept_name | Customer Service     \n",
      " dept_subject_to_SLA    | YES                  \n",
      "-RECORD 1--------------------------------------\n",
      " dept_division          | Brush                \n",
      " dept_name              | Solid Waste Manag... \n",
      " standardized_dept_name | Solid Waste          \n",
      " dept_subject_to_SLA    | YES                  \n",
      "only showing top 2 rows\n",
      "\n"
     ]
    }
   ],
   "source": [
    "dept_df.show(2, vertical=True)"
   ]
  },
  {
   "cell_type": "code",
   "execution_count": 11,
   "metadata": {},
   "outputs": [
    {
     "name": "stdout",
     "output_type": "stream",
     "text": [
      "root\n",
      " |-- dept_division: string (nullable = true)\n",
      " |-- dept_name: string (nullable = true)\n",
      " |-- standardized_dept_name: string (nullable = true)\n",
      " |-- dept_subject_to_SLA: string (nullable = true)\n",
      "\n"
     ]
    }
   ],
   "source": [
    "dept_df.printSchema()"
   ]
  },
  {
   "cell_type": "code",
   "execution_count": 12,
   "metadata": {},
   "outputs": [
    {
     "name": "stdout",
     "output_type": "stream",
     "text": [
      "-RECORD 0--------------------------------------\n",
      " dept_division          | 311 Call Center      \n",
      " dept_name              | Customer Service     \n",
      " standardized_dept_name | Customer Service     \n",
      " dept_subject_to_SLA    | true                 \n",
      "-RECORD 1--------------------------------------\n",
      " dept_division          | Brush                \n",
      " dept_name              | Solid Waste Manag... \n",
      " standardized_dept_name | Solid Waste          \n",
      " dept_subject_to_SLA    | true                 \n",
      "only showing top 2 rows\n",
      "\n"
     ]
    }
   ],
   "source": [
    "# dept_subject_to_SLA should be boolean \n",
    "dept_df = (dept_df.withColumn('dept_subject_to_SLA', col('dept_subject_to_SLA') == 'YES'))\n",
    "\n",
    "dept_df.show(2, vertical=True)"
   ]
  },
  {
   "cell_type": "code",
   "execution_count": 13,
   "metadata": {},
   "outputs": [
    {
     "name": "stdout",
     "output_type": "stream",
     "text": [
      "-RECORD 0---------------------------\n",
      " source_id       | 100137           \n",
      " source_username | Merlene Blodgett \n",
      "-RECORD 1---------------------------\n",
      " source_id       | 103582           \n",
      " source_username | Carmen Cura      \n",
      "only showing top 2 rows\n",
      "\n"
     ]
    }
   ],
   "source": [
    "source_df.show(2, vertical=True)"
   ]
  },
  {
   "cell_type": "code",
   "execution_count": 14,
   "metadata": {},
   "outputs": [
    {
     "name": "stdout",
     "output_type": "stream",
     "text": [
      "root\n",
      " |-- source_id: string (nullable = true)\n",
      " |-- source_username: string (nullable = true)\n",
      "\n"
     ]
    }
   ],
   "source": [
    "source_df.printSchema()"
   ]
  },
  {
   "cell_type": "code",
   "execution_count": 15,
   "metadata": {},
   "outputs": [],
   "source": [
    "# this df is fine as is"
   ]
  },
  {
   "cell_type": "markdown",
   "metadata": {},
   "source": [
    "You might have noticed that the latest date in the dataset is fairly far off from the present day. To account for this, replace any occurances of the current time with the maximum date from the dataset."
   ]
  },
  {
   "cell_type": "code",
   "execution_count": 16,
   "metadata": {},
   "outputs": [
    {
     "name": "stdout",
     "output_type": "stream",
     "text": [
      "+---------------------+---------------------+-------------------+\n",
      "|max(case_closed_date)|max(case_opened_date)| max(case_due_date)|\n",
      "+---------------------+---------------------+-------------------+\n",
      "|  2018-08-08 10:38:00|  2018-08-08 10:38:00|2022-05-27 15:07:00|\n",
      "+---------------------+---------------------+-------------------+\n",
      "\n"
     ]
    }
   ],
   "source": [
    "# what is max date in dataset?\n",
    "(case_df\n",
    "    .select(max('case_closed_date'), max('case_opened_date'), max('case_due_date'))\n",
    ").show()"
   ]
  },
  {
   "cell_type": "markdown",
   "metadata": {},
   "source": [
    "### 1. How old is the latest (in terms of days past SLA) currently open issue? How long has the oldest (in terms of days since opened) currently opened issue been open?"
   ]
  },
  {
   "cell_type": "code",
   "execution_count": 17,
   "metadata": {},
   "outputs": [
    {
     "name": "stdout",
     "output_type": "stream",
     "text": [
      "+------------------+\n",
      "|max(num_days_late)|\n",
      "+------------------+\n",
      "|       348.6458333|\n",
      "+------------------+\n",
      "\n"
     ]
    }
   ],
   "source": [
    "(\n",
    "    case_df\n",
    "    .filter(col('case_status') == 'Open')\n",
    "    .select(max('num_days_late'))\n",
    ").show()"
   ]
  },
  {
   "cell_type": "code",
   "execution_count": 18,
   "metadata": {},
   "outputs": [
    {
     "name": "stdout",
     "output_type": "stream",
     "text": [
      "+---------------------+\n",
      "|max(case_closed_date)|\n",
      "+---------------------+\n",
      "|                 null|\n",
      "+---------------------+\n",
      "\n"
     ]
    }
   ],
   "source": [
    "(\n",
    "    case_df\n",
    "    .filter(col('case_status') == 'Open')\n",
    "    .select(max('case_closed_date'))\n",
    ").show()"
   ]
  },
  {
   "cell_type": "code",
   "execution_count": 19,
   "metadata": {
    "scrolled": true
   },
   "outputs": [
    {
     "name": "stdout",
     "output_type": "stream",
     "text": [
      "-RECORD 0------------------------------------\n",
      " case_id              | 1014127332           \n",
      " case_opened_date     | 2018-01-01 00:42:00  \n",
      " case_closed_date     | 2018-01-01 12:29:00  \n",
      " case_due_date        | 2020-09-26 00:42:00  \n",
      " case_late            | false                \n",
      " num_days_late        | -998.5087616000001   \n",
      " case_closed          | true                 \n",
      " dept_division        | Field Operations     \n",
      " service_request_type | Stray Animal         \n",
      " SLA_days             | 999.0                \n",
      " case_status          | Closed               \n",
      " source_id            | svcCRMLS             \n",
      " request_address      | 2315  EL PASO ST,... \n",
      " council_district     | 0005                 \n",
      " case_age             | 219                  \n",
      " days_to_closed       | 0                    \n",
      " case_lifetime        | 0                    \n",
      "-RECORD 1------------------------------------\n",
      " case_id              | 1014127333           \n",
      " case_opened_date     | 2018-01-01 00:46:00  \n",
      " case_closed_date     | 2018-01-03 08:11:00  \n",
      " case_due_date        | 2018-01-05 08:30:00  \n",
      " case_late            | false                \n",
      " num_days_late        | -2.0126041669999997  \n",
      " case_closed          | true                 \n",
      " dept_division        | Storm Water          \n",
      " service_request_type | Removal Of Obstru... \n",
      " SLA_days             | 4.322222222          \n",
      " case_status          | Closed               \n",
      " source_id            | svcCRMSS             \n",
      " request_address      | 2215  GOLIAD RD, ... \n",
      " council_district     | 0003                 \n",
      " case_age             | 219                  \n",
      " days_to_closed       | 2                    \n",
      " case_lifetime        | 2                    \n",
      "only showing top 2 rows\n",
      "\n",
      "-RECORD 0------------------------------------\n",
      " case_id              | 1014128388           \n",
      " case_opened_date     | 2018-01-02 09:39:00  \n",
      " case_closed_date     | null                 \n",
      " case_due_date        | 2018-01-09 09:39:00  \n",
      " case_late            | true                 \n",
      " num_days_late        | 211.5974884          \n",
      " case_closed          | false                \n",
      " dept_division        | 311 Call Center      \n",
      " service_request_type | Complaint            \n",
      " SLA_days             | 7.0                  \n",
      " case_status          | Open                 \n",
      " source_id            | mt13131              \n",
      " request_address      | 7326  WESTGLADE P... \n",
      " council_district     | 0006                 \n",
      " case_age             | 218                  \n",
      " days_to_closed       | null                 \n",
      " case_lifetime        | 218                  \n",
      "-RECORD 1------------------------------------\n",
      " case_id              | 1014128790           \n",
      " case_opened_date     | 2018-01-02 10:49:00  \n",
      " case_closed_date     | null                 \n",
      " case_due_date        | 2018-05-10 10:49:00  \n",
      " case_late            | true                 \n",
      " num_days_late        | 90.54925926          \n",
      " case_closed          | false                \n",
      " dept_division        | Dangerous Premise    \n",
      " service_request_type | DSDB Ordered/Hold... \n",
      " SLA_days             | 128.0                \n",
      " case_status          | Open                 \n",
      " source_id            | CRM_Listener         \n",
      " request_address      | 2202  POTOSI ST, ... \n",
      " council_district     | 0005                 \n",
      " case_age             | 218                  \n",
      " days_to_closed       | null                 \n",
      " case_lifetime        | 218                  \n",
      "only showing top 2 rows\n",
      "\n"
     ]
    }
   ],
   "source": [
    "# assuming today is the same as max date in dataset\n",
    "max_date = case_df.select(max('case_closed_date')).collect()[0][0]\n",
    "\n",
    "case_df = (case_df\n",
    "           .withColumn('case_age', datediff(lit(max_date), 'case_opened_date'))\n",
    "           .withColumn('days_to_closed', datediff('case_closed_date', 'case_opened_date'))\n",
    "           .withColumn('case_lifetime', \n",
    "                       when(expr('! case_closed'), col('case_age'))\n",
    "                       .otherwise(col('days_to_closed')))\n",
    "          )\n",
    "\n",
    "case_df.where(expr(\"case_closed\")).show(2, vertical=True)\n",
    "case_df.where(expr(\"! case_closed\")).show(2, vertical=True)"
   ]
  },
  {
   "cell_type": "markdown",
   "metadata": {},
   "source": [
    "### 2. How many Stray Animal cases are there?\n"
   ]
  },
  {
   "cell_type": "code",
   "execution_count": 20,
   "metadata": {},
   "outputs": [
    {
     "name": "stdout",
     "output_type": "stream",
     "text": [
      "+--------------------+-----+\n",
      "|service_request_type|count|\n",
      "+--------------------+-----+\n",
      "|        Stray Animal|26760|\n",
      "+--------------------+-----+\n",
      "\n"
     ]
    }
   ],
   "source": [
    "(case_df\n",
    "    .groupBy('service_request_type')\n",
    "    .count()\n",
    "    .where(case_df.service_request_type == 'Stray Animal')\n",
    ").show()"
   ]
  },
  {
   "cell_type": "markdown",
   "metadata": {},
   "source": [
    "### 3. How many service requests that are assigned to the Field Operations department (dept_division) are not classified as \"Officer Standby\" request type (service_request_type)?"
   ]
  },
  {
   "cell_type": "code",
   "execution_count": 21,
   "metadata": {},
   "outputs": [
    {
     "data": {
      "text/plain": [
       "113902"
      ]
     },
     "execution_count": 21,
     "metadata": {},
     "output_type": "execute_result"
    }
   ],
   "source": [
    "(\n",
    "    case_df\n",
    "    .filter(col('dept_division') == 'Field Operations')\n",
    "    .filter(col('service_request_type') != 'Officer Standby')\n",
    "    .count()\n",
    ")"
   ]
  },
  {
   "cell_type": "markdown",
   "metadata": {},
   "source": [
    "### 4. Convert the council_district column to a string column."
   ]
  },
  {
   "cell_type": "code",
   "execution_count": 22,
   "metadata": {
    "scrolled": true
   },
   "outputs": [
    {
     "name": "stdout",
     "output_type": "stream",
     "text": [
      "-RECORD 0------------------------------------\n",
      " case_id              | 1014127332           \n",
      " case_opened_date     | 2018-01-01 00:42:00  \n",
      " case_closed_date     | 2018-01-01 12:29:00  \n",
      " case_due_date        | 2020-09-26 00:42:00  \n",
      " case_late            | false                \n",
      " num_days_late        | -998.5087616000001   \n",
      " case_closed          | true                 \n",
      " dept_division        | Field Operations     \n",
      " service_request_type | Stray Animal         \n",
      " SLA_days             | 999.0                \n",
      " case_status          | Closed               \n",
      " source_id            | svcCRMLS             \n",
      " request_address      | 2315  EL PASO ST,... \n",
      " council_district     | 0005                 \n",
      " case_age             | 219                  \n",
      " days_to_closed       | 0                    \n",
      " case_lifetime        | 0                    \n",
      "-RECORD 1------------------------------------\n",
      " case_id              | 1014127333           \n",
      " case_opened_date     | 2018-01-01 00:46:00  \n",
      " case_closed_date     | 2018-01-03 08:11:00  \n",
      " case_due_date        | 2018-01-05 08:30:00  \n",
      " case_late            | false                \n",
      " num_days_late        | -2.0126041669999997  \n",
      " case_closed          | true                 \n",
      " dept_division        | Storm Water          \n",
      " service_request_type | Removal Of Obstru... \n",
      " SLA_days             | 4.322222222          \n",
      " case_status          | Closed               \n",
      " source_id            | svcCRMSS             \n",
      " request_address      | 2215  GOLIAD RD, ... \n",
      " council_district     | 0003                 \n",
      " case_age             | 219                  \n",
      " days_to_closed       | 2                    \n",
      " case_lifetime        | 2                    \n",
      "only showing top 2 rows\n",
      "\n"
     ]
    }
   ],
   "source": [
    "case_df = case_df.withColumn(\"council_district\", col(\"council_district\").cast(\"string\"))\n",
    "case_df.show(2, vertical=True)"
   ]
  },
  {
   "cell_type": "markdown",
   "metadata": {},
   "source": [
    "### 5. Extract the year from the case_closed_date column."
   ]
  },
  {
   "cell_type": "code",
   "execution_count": 23,
   "metadata": {
    "scrolled": true
   },
   "outputs": [
    {
     "name": "stdout",
     "output_type": "stream",
     "text": [
      "-RECORD 0------------------------------------\n",
      " case_id              | 1014127332           \n",
      " case_opened_date     | 2018-01-01 00:42:00  \n",
      " case_closed_date     | 2018-01-01 12:29:00  \n",
      " case_due_date        | 2020-09-26 00:42:00  \n",
      " case_late            | false                \n",
      " num_days_late        | -998.5087616000001   \n",
      " case_closed          | true                 \n",
      " dept_division        | Field Operations     \n",
      " service_request_type | Stray Animal         \n",
      " SLA_days             | 999.0                \n",
      " case_status          | Closed               \n",
      " source_id            | svcCRMLS             \n",
      " request_address      | 2315  EL PASO ST,... \n",
      " council_district     | 0005                 \n",
      " case_age             | 219                  \n",
      " days_to_closed       | 0                    \n",
      " case_lifetime        | 0                    \n",
      " year                 | 2018                 \n",
      "-RECORD 1------------------------------------\n",
      " case_id              | 1014127333           \n",
      " case_opened_date     | 2018-01-01 00:46:00  \n",
      " case_closed_date     | 2018-01-03 08:11:00  \n",
      " case_due_date        | 2018-01-05 08:30:00  \n",
      " case_late            | false                \n",
      " num_days_late        | -2.0126041669999997  \n",
      " case_closed          | true                 \n",
      " dept_division        | Storm Water          \n",
      " service_request_type | Removal Of Obstru... \n",
      " SLA_days             | 4.322222222          \n",
      " case_status          | Closed               \n",
      " source_id            | svcCRMSS             \n",
      " request_address      | 2215  GOLIAD RD, ... \n",
      " council_district     | 0003                 \n",
      " case_age             | 219                  \n",
      " days_to_closed       | 2                    \n",
      " case_lifetime        | 2                    \n",
      " year                 | 2018                 \n",
      "only showing top 2 rows\n",
      "\n"
     ]
    }
   ],
   "source": [
    "case_df = case_df.withColumn(\"year\", year(\"case_closed_date\"))\n",
    "case_df.show(2, vertical=True)"
   ]
  },
  {
   "cell_type": "markdown",
   "metadata": {},
   "source": [
    "### 6. Convert num_days_late from days to hours in new columns num_hours_late."
   ]
  },
  {
   "cell_type": "code",
   "execution_count": 24,
   "metadata": {},
   "outputs": [
    {
     "name": "stdout",
     "output_type": "stream",
     "text": [
      "-RECORD 0------------------------------------\n",
      " case_id              | 1014127332           \n",
      " case_opened_date     | 2018-01-01 00:42:00  \n",
      " case_closed_date     | 2018-01-01 12:29:00  \n",
      " case_due_date        | 2020-09-26 00:42:00  \n",
      " case_late            | false                \n",
      " num_days_late        | -998.5087616000001   \n",
      " case_closed          | true                 \n",
      " dept_division        | Field Operations     \n",
      " service_request_type | Stray Animal         \n",
      " SLA_days             | 999.0                \n",
      " case_status          | Closed               \n",
      " source_id            | svcCRMLS             \n",
      " request_address      | 2315  EL PASO ST,... \n",
      " council_district     | 0005                 \n",
      " case_age             | 219                  \n",
      " days_to_closed       | 0                    \n",
      " case_lifetime        | 0                    \n",
      " year                 | 2018                 \n",
      " num_hours_late       | -23964.2103          \n",
      "-RECORD 1------------------------------------\n",
      " case_id              | 1014127333           \n",
      " case_opened_date     | 2018-01-01 00:46:00  \n",
      " case_closed_date     | 2018-01-03 08:11:00  \n",
      " case_due_date        | 2018-01-05 08:30:00  \n",
      " case_late            | false                \n",
      " num_days_late        | -2.0126041669999997  \n",
      " case_closed          | true                 \n",
      " dept_division        | Storm Water          \n",
      " service_request_type | Removal Of Obstru... \n",
      " SLA_days             | 4.322222222          \n",
      " case_status          | Closed               \n",
      " source_id            | svcCRMSS             \n",
      " request_address      | 2215  GOLIAD RD, ... \n",
      " council_district     | 0003                 \n",
      " case_age             | 219                  \n",
      " days_to_closed       | 2                    \n",
      " case_lifetime        | 2                    \n",
      " year                 | 2018                 \n",
      " num_hours_late       | -48.3025             \n",
      "only showing top 2 rows\n",
      "\n"
     ]
    }
   ],
   "source": [
    "case_df = case_df.withColumn(\n",
    "    \"num_hours_late\", \n",
    "    (round((col('num_days_late') * 24), 4))\n",
    ")\n",
    "    \n",
    "case_df.show(2, vertical=True)"
   ]
  },
  {
   "cell_type": "markdown",
   "metadata": {},
   "source": [
    "### 7. Join the case data with the source and department data."
   ]
  },
  {
   "cell_type": "code",
   "execution_count": 25,
   "metadata": {
    "scrolled": true
   },
   "outputs": [
    {
     "name": "stdout",
     "output_type": "stream",
     "text": [
      "-RECORD 0--------------------------------------\n",
      " source_id              | svcCRMLS             \n",
      " dept_division          | Field Operations     \n",
      " case_id                | 1014127332           \n",
      " case_opened_date       | 2018-01-01 00:42:00  \n",
      " case_closed_date       | 2018-01-01 12:29:00  \n",
      " case_due_date          | 2020-09-26 00:42:00  \n",
      " case_late              | false                \n",
      " num_days_late          | -998.5087616000001   \n",
      " case_closed            | true                 \n",
      " service_request_type   | Stray Animal         \n",
      " SLA_days               | 999.0                \n",
      " case_status            | Closed               \n",
      " request_address        | 2315  EL PASO ST,... \n",
      " council_district       | 0005                 \n",
      " case_age               | 219                  \n",
      " days_to_closed         | 0                    \n",
      " case_lifetime          | 0                    \n",
      " year                   | 2018                 \n",
      " num_hours_late         | -23964.2103          \n",
      " dept_name              | Animal Care Services \n",
      " standardized_dept_name | Animal Care Services \n",
      " dept_subject_to_SLA    | true                 \n",
      " source_username        | svcCRMLS             \n",
      "-RECORD 1--------------------------------------\n",
      " source_id              | svcCRMSS             \n",
      " dept_division          | Storm Water          \n",
      " case_id                | 1014127333           \n",
      " case_opened_date       | 2018-01-01 00:46:00  \n",
      " case_closed_date       | 2018-01-03 08:11:00  \n",
      " case_due_date          | 2018-01-05 08:30:00  \n",
      " case_late              | false                \n",
      " num_days_late          | -2.0126041669999997  \n",
      " case_closed            | true                 \n",
      " service_request_type   | Removal Of Obstru... \n",
      " SLA_days               | 4.322222222          \n",
      " case_status            | Closed               \n",
      " request_address        | 2215  GOLIAD RD, ... \n",
      " council_district       | 0003                 \n",
      " case_age               | 219                  \n",
      " days_to_closed         | 2                    \n",
      " case_lifetime          | 2                    \n",
      " year                   | 2018                 \n",
      " num_hours_late         | -48.3025             \n",
      " dept_name              | Trans & Cap Impro... \n",
      " standardized_dept_name | Trans & Cap Impro... \n",
      " dept_subject_to_SLA    | true                 \n",
      " source_username        | svcCRMSS             \n",
      "only showing top 2 rows\n",
      "\n"
     ]
    }
   ],
   "source": [
    "case_df = (\n",
    "    case_df\n",
    "    .join(dept_df, \"dept_division\", \"left\")\n",
    "    .join(source_df, 'source_id', 'left')\n",
    ")\n",
    "\n",
    "case_df.show(2, vertical=True)"
   ]
  },
  {
   "cell_type": "code",
   "execution_count": 26,
   "metadata": {
    "scrolled": true
   },
   "outputs": [
    {
     "name": "stdout",
     "output_type": "stream",
     "text": [
      "-RECORD 0------------------------------------\n",
      " source_id            | svcCRMLS             \n",
      " dept_division        | Field Operations     \n",
      " case_id              | 1014127332           \n",
      " case_opened_date     | 2018-01-01 00:42:00  \n",
      " case_closed_date     | 2018-01-01 12:29:00  \n",
      " case_due_date        | 2020-09-26 00:42:00  \n",
      " case_late            | false                \n",
      " num_days_late        | -998.5087616000001   \n",
      " case_closed          | true                 \n",
      " service_request_type | Stray Animal         \n",
      " SLA_days             | 999.0                \n",
      " case_status          | Closed               \n",
      " request_address      | 2315  EL PASO ST,... \n",
      " council_district     | 0005                 \n",
      " case_age             | 219                  \n",
      " days_to_closed       | 0                    \n",
      " case_lifetime        | 0                    \n",
      " year                 | 2018                 \n",
      " num_hours_late       | -23964.2103          \n",
      " department           | Animal Care Services \n",
      " dept_subject_to_SLA  | true                 \n",
      " source_username      | svcCRMLS             \n",
      "-RECORD 1------------------------------------\n",
      " source_id            | svcCRMSS             \n",
      " dept_division        | Storm Water          \n",
      " case_id              | 1014127333           \n",
      " case_opened_date     | 2018-01-01 00:46:00  \n",
      " case_closed_date     | 2018-01-03 08:11:00  \n",
      " case_due_date        | 2018-01-05 08:30:00  \n",
      " case_late            | false                \n",
      " num_days_late        | -2.0126041669999997  \n",
      " case_closed          | true                 \n",
      " service_request_type | Removal Of Obstru... \n",
      " SLA_days             | 4.322222222          \n",
      " case_status          | Closed               \n",
      " request_address      | 2215  GOLIAD RD, ... \n",
      " council_district     | 0003                 \n",
      " case_age             | 219                  \n",
      " days_to_closed       | 2                    \n",
      " case_lifetime        | 2                    \n",
      " year                 | 2018                 \n",
      " num_hours_late       | -48.3025             \n",
      " department           | Trans & Cap Impro... \n",
      " dept_subject_to_SLA  | true                 \n",
      " source_username      | svcCRMSS             \n",
      "only showing top 2 rows\n",
      "\n"
     ]
    }
   ],
   "source": [
    "case_df = (\n",
    "    case_df\n",
    "    .drop(case_df.dept_name)\n",
    "    .withColumnRenamed(\"standardized_dept_name\", \"department\")\n",
    ")\n",
    "\n",
    "case_df.show(2, vertical=True)"
   ]
  },
  {
   "cell_type": "markdown",
   "metadata": {},
   "source": [
    "### 8. Are there any cases that do not have a request source?"
   ]
  },
  {
   "cell_type": "code",
   "execution_count": 27,
   "metadata": {},
   "outputs": [
    {
     "name": "stdout",
     "output_type": "stream",
     "text": [
      "+---------+-------------+-------+----------------+----------------+-------------+---------+-------------+-----------+--------------------+--------+-----------+---------------+----------------+--------+--------------+-------------+----+--------------+----------+-------------------+---------------+\n",
      "|source_id|dept_division|case_id|case_opened_date|case_closed_date|case_due_date|case_late|num_days_late|case_closed|service_request_type|SLA_days|case_status|request_address|council_district|case_age|days_to_closed|case_lifetime|year|num_hours_late|department|dept_subject_to_SLA|source_username|\n",
      "+---------+-------------+-------+----------------+----------------+-------------+---------+-------------+-----------+--------------------+--------+-----------+---------------+----------------+--------+--------------+-------------+----+--------------+----------+-------------------+---------------+\n",
      "+---------+-------------+-------+----------------+----------------+-------------+---------+-------------+-----------+--------------------+--------+-----------+---------------+----------------+--------+--------------+-------------+----+--------------+----------+-------------------+---------------+\n",
      "\n"
     ]
    }
   ],
   "source": [
    "(case_df.filter(col('source_id') == 'null')).show()"
   ]
  },
  {
   "cell_type": "markdown",
   "metadata": {},
   "source": [
    "### 9. What are the top 10 service request types in terms of number of requests?"
   ]
  },
  {
   "cell_type": "code",
   "execution_count": 28,
   "metadata": {},
   "outputs": [
    {
     "name": "stdout",
     "output_type": "stream",
     "text": [
      "+--------------------+-----+\n",
      "|service_request_type|count|\n",
      "+--------------------+-----+\n",
      "|           No Pickup|89210|\n",
      "|Overgrown Yard/Trash|66403|\n",
      "|        Bandit Signs|32968|\n",
      "|        Damaged Cart|31163|\n",
      "|Front Or Side Yar...|28920|\n",
      "|        Stray Animal|27361|\n",
      "|Aggressive Animal...|25492|\n",
      "|Cart Exchange Req...|22608|\n",
      "|Junk Vehicle On P...|21649|\n",
      "|     Pot Hole Repair|20827|\n",
      "+--------------------+-----+\n",
      "only showing top 10 rows\n",
      "\n"
     ]
    }
   ],
   "source": [
    "(case_df.groupBy('service_request_type').count().sort(desc('count'))).show(10)"
   ]
  },
  {
   "cell_type": "markdown",
   "metadata": {},
   "source": [
    "### 10. What are the top 10 service request types in terms of average days late?"
   ]
  },
  {
   "cell_type": "code",
   "execution_count": 29,
   "metadata": {},
   "outputs": [
    {
     "name": "stdout",
     "output_type": "stream",
     "text": [
      "+--------------------+------------------+\n",
      "|service_request_type|avg(num_days_late)|\n",
      "+--------------------+------------------+\n",
      "|  Zoning: Junk Yards| 175.9563621042095|\n",
      "|Labeling for Used...|162.43032902285717|\n",
      "|Record Keeping of...|153.99724039428568|\n",
      "|Signage Requied f...|151.63868055333333|\n",
      "|Storage of Used M...|     142.112556415|\n",
      "|Zoning: Recycle Yard|135.92851612479797|\n",
      "|Donation Containe...|131.75610506358706|\n",
      "|License Requied U...|128.79828704142858|\n",
      "|Traffic Signal Gr...|101.79846062200002|\n",
      "|           Complaint| 72.87050230311695|\n",
      "+--------------------+------------------+\n",
      "only showing top 10 rows\n",
      "\n"
     ]
    }
   ],
   "source": [
    "(\n",
    "    case_df\n",
    "    .groupBy('service_request_type')\n",
    "    .agg(avg('num_days_late'))\n",
    "    .sort(desc('avg(num_days_late)'))\n",
    ").show(10)"
   ]
  },
  {
   "cell_type": "markdown",
   "metadata": {},
   "source": [
    "### 11. Does number of days late depend on department?"
   ]
  },
  {
   "cell_type": "code",
   "execution_count": 30,
   "metadata": {},
   "outputs": [
    {
     "name": "stdout",
     "output_type": "stream",
     "text": [
      "+------------------------+---------+------------+\n",
      "|department              |days_late|n_cases_late|\n",
      "+------------------------+---------+------------+\n",
      "|Metro Health            |6.5      |854         |\n",
      "|Solid Waste             |7.1      |33729       |\n",
      "|Trans & Cap Improvements|10.7     |5529        |\n",
      "|Parks & Recreation      |22.4     |3810        |\n",
      "|Animal Care Services    |23.4     |23751       |\n",
      "|DSD/Code Enforcement    |49.5     |26439       |\n",
      "|Customer Service        |88.2     |2035        |\n",
      "+------------------------+---------+------------+\n",
      "\n"
     ]
    }
   ],
   "source": [
    "(\n",
    "    case_df\n",
    "    .filter('case_late')\n",
    "    .groupby('department')\n",
    "    .agg(mean('num_days_late').alias('days_late'), count('num_days_late').alias('n_cases_late'))\n",
    "    .sort('days_late')\n",
    "    .withColumn('days_late', round(col('days_late'), 1))\n",
    "    .show(truncate=False)\n",
    ")"
   ]
  },
  {
   "cell_type": "markdown",
   "metadata": {},
   "source": [
    "### 12. How do number of days late depend on department and request type?"
   ]
  },
  {
   "cell_type": "code",
   "execution_count": 31,
   "metadata": {},
   "outputs": [
    {
     "name": "stdout",
     "output_type": "stream",
     "text": [
      "+--------------------+--------------------------------------------+---------+-------+\n",
      "|department          |service_request_type                        |days_late|n_cases|\n",
      "+--------------------+--------------------------------------------+---------+-------+\n",
      "|DSD/Code Enforcement|Zoning: Recycle Yard                        |273.6    |75     |\n",
      "|DSD/Code Enforcement|Zoning: Junk Yards                          |251.9    |146    |\n",
      "|DSD/Code Enforcement|Donation Container Enforcement              |201.7    |82     |\n",
      "|DSD/Code Enforcement|Structure/Housing Maintenance               |182.4    |30     |\n",
      "|DSD/Code Enforcement|Graffiti: Private Property (Corridors)      |175.1    |3      |\n",
      "|DSD/Code Enforcement|Storage of Used Mattress                    |164.0    |7      |\n",
      "|DSD/Code Enforcement|Labeling for Used Mattress                  |162.4    |7      |\n",
      "|DSD/Code Enforcement|Record Keeping of Used Mattresses           |154.0    |7      |\n",
      "|DSD/Code Enforcement|Signage Requied for Sale of Used Mattr      |151.6    |12     |\n",
      "|DSD/Code Enforcement|License Requied Used Mattress Sales         |128.8    |7      |\n",
      "|DSD/Code Enforcement|Vendors                                     |127.3    |103    |\n",
      "|DSD/Code Enforcement|Curbstoning                                 |121.8    |100    |\n",
      "|DSD/Code Enforcement|DSDB Ordered/Hold Harmless/Regular-ALL      |119.8    |40     |\n",
      "|DSD/Code Enforcement|CPS Energy Wood Poles                       |115.2    |1      |\n",
      "|DSD/Code Enforcement|Used Mattress Inspection                    |108.1    |16     |\n",
      "|DSD/Code Enforcement|DSDB Ordered/Hold Harmless/Regular: Main    |106.4    |86     |\n",
      "|DSD/Code Enforcement|DSDB Ordered/Hold Harmless/Regular: ASEC    |104.7    |41     |\n",
      "|DSD/Code Enforcement|Zoning: Mobile Homes                        |103.8    |5      |\n",
      "|DSD/Code Enforcement|Certificates of Occupancy                   |103.3    |91     |\n",
      "|DSD/Code Enforcement|Zoning: Setbacks                            |98.4     |80     |\n",
      "|DSD/Code Enforcement|Wasting Water (Leaks)                       |91.3     |4      |\n",
      "|DSD/Code Enforcement|Street Light New Development                |91.1     |16     |\n",
      "|DSD/Code Enforcement|Zoning: District Requirement                |89.3     |241    |\n",
      "|DSD/Code Enforcement|Permits Building                            |84.4     |1413   |\n",
      "|DSD/Code Enforcement|Vacant Lot: Over 12\"\"                       |82.1     |1      |\n",
      "|Customer Service    |Complaint                                   |81.5     |939    |\n",
      "|DSD/Code Enforcement|Low Hanging Limbs on Streets/Sidewalk       |78.6     |19     |\n",
      "|Parks & Recreation  |Major Park Improvement Install              |75.8     |17     |\n",
      "|DSD/Code Enforcement|Zoning: Outside Storage                     |74.2     |16     |\n",
      "|DSD/Code Enforcement|Dart Preliminary Inspection                 |74.0     |8      |\n",
      "|DSD/Code Enforcement|Dumpsters: Maintenance/Sanitation           |73.2     |38     |\n",
      "|DSD/Code Enforcement|Used/Scrap Tire Facility Periodic Inspection|72.9     |8      |\n",
      "|DSD/Code Enforcement|\"Vacant Lot-State (12\"\")\"                   |72.1     |2      |\n",
      "|Animal Care Services|Animal Permits Request                      |72.0     |1218   |\n",
      "|DSD/Code Enforcement|No Address Posted                           |72.0     |754    |\n",
      "|Animal Care Services|Public Nuisance(Own Animal)                 |71.2     |976    |\n",
      "|DSD/Code Enforcement|Zoning Business in Resident Area            |70.9     |90     |\n",
      "|DSD/Code Enforcement|Water No Services                           |69.5     |11     |\n",
      "|DSD/Code Enforcement|Discharge Into Pub. Waters/St               |69.3     |1      |\n",
      "|DSD/Code Enforcement|Zoning: Multi-Family In Single              |67.8     |42     |\n",
      "+--------------------+--------------------------------------------+---------+-------+\n",
      "only showing top 40 rows\n",
      "\n"
     ]
    }
   ],
   "source": [
    "(\n",
    "    case_df\n",
    "    .filter(\"case_closed\")\n",
    "    .filter(\"case_late\")\n",
    "    .groupby(\"department\", \"service_request_type\")\n",
    "    .agg(avg(\"num_days_late\").alias(\"days_late\"), count(\"*\").alias(\"n_cases\"))\n",
    "    .withColumn(\"days_late\", round(col(\"days_late\"), 1))\n",
    "    .sort(desc(\"days_late\"))\n",
    "    .show(40, truncate=False)\n",
    ")"
   ]
  },
  {
   "cell_type": "markdown",
   "metadata": {},
   "source": [
    "#### Notes"
   ]
  },
  {
   "cell_type": "code",
   "execution_count": 32,
   "metadata": {},
   "outputs": [],
   "source": [
    "# code to auto format code in terminal\n",
    "# pbpaste | black -q- | pbcopy\n",
    "# made an alias called fmt-clipboard\n",
    "\n",
    "\n",
    "# to format a whole py file\n",
    "# in the terminal & directory where the file is\n",
    "# black some_py_file.py"
   ]
  },
  {
   "cell_type": "code",
   "execution_count": 33,
   "metadata": {},
   "outputs": [
    {
     "name": "stdout",
     "output_type": "stream",
     "text": [
      "+--------------------+--------------------------------------------+---------+-------+\n",
      "|department          |service_request_type                        |days_late|n_cases|\n",
      "+--------------------+--------------------------------------------+---------+-------+\n",
      "|DSD/Code Enforcement|Zoning: Recycle Yard                        |273.6    |75     |\n",
      "|DSD/Code Enforcement|Zoning: Junk Yards                          |251.9    |146    |\n",
      "|DSD/Code Enforcement|Donation Container Enforcement              |201.7    |82     |\n",
      "|DSD/Code Enforcement|Structure/Housing Maintenance               |182.4    |30     |\n",
      "|DSD/Code Enforcement|Graffiti: Private Property (Corridors)      |175.1    |3      |\n",
      "|DSD/Code Enforcement|Storage of Used Mattress                    |164.0    |7      |\n",
      "|DSD/Code Enforcement|Labeling for Used Mattress                  |162.4    |7      |\n",
      "|DSD/Code Enforcement|Record Keeping of Used Mattresses           |154.0    |7      |\n",
      "|DSD/Code Enforcement|Signage Requied for Sale of Used Mattr      |151.6    |12     |\n",
      "|DSD/Code Enforcement|License Requied Used Mattress Sales         |128.8    |7      |\n",
      "|DSD/Code Enforcement|Vendors                                     |127.3    |103    |\n",
      "|DSD/Code Enforcement|Curbstoning                                 |121.8    |100    |\n",
      "|DSD/Code Enforcement|DSDB Ordered/Hold Harmless/Regular-ALL      |119.8    |40     |\n",
      "|DSD/Code Enforcement|CPS Energy Wood Poles                       |115.2    |1      |\n",
      "|DSD/Code Enforcement|Used Mattress Inspection                    |108.1    |16     |\n",
      "|DSD/Code Enforcement|DSDB Ordered/Hold Harmless/Regular: Main    |106.4    |86     |\n",
      "|DSD/Code Enforcement|DSDB Ordered/Hold Harmless/Regular: ASEC    |104.7    |41     |\n",
      "|DSD/Code Enforcement|Zoning: Mobile Homes                        |103.8    |5      |\n",
      "|DSD/Code Enforcement|Certificates of Occupancy                   |103.3    |91     |\n",
      "|DSD/Code Enforcement|Zoning: Setbacks                            |98.4     |80     |\n",
      "|DSD/Code Enforcement|Wasting Water (Leaks)                       |91.3     |4      |\n",
      "|DSD/Code Enforcement|Street Light New Development                |91.1     |16     |\n",
      "|DSD/Code Enforcement|Zoning: District Requirement                |89.3     |241    |\n",
      "|DSD/Code Enforcement|Permits Building                            |84.4     |1413   |\n",
      "|DSD/Code Enforcement|Vacant Lot: Over 12\"\"                       |82.1     |1      |\n",
      "|Customer Service    |Complaint                                   |81.5     |939    |\n",
      "|DSD/Code Enforcement|Low Hanging Limbs on Streets/Sidewalk       |78.6     |19     |\n",
      "|Parks & Recreation  |Major Park Improvement Install              |75.8     |17     |\n",
      "|DSD/Code Enforcement|Zoning: Outside Storage                     |74.2     |16     |\n",
      "|DSD/Code Enforcement|Dart Preliminary Inspection                 |74.0     |8      |\n",
      "|DSD/Code Enforcement|Dumpsters: Maintenance/Sanitation           |73.2     |38     |\n",
      "|DSD/Code Enforcement|Used/Scrap Tire Facility Periodic Inspection|72.9     |8      |\n",
      "|DSD/Code Enforcement|\"Vacant Lot-State (12\"\")\"                   |72.1     |2      |\n",
      "|Animal Care Services|Animal Permits Request                      |72.0     |1218   |\n",
      "|DSD/Code Enforcement|No Address Posted                           |72.0     |754    |\n",
      "|Animal Care Services|Public Nuisance(Own Animal)                 |71.2     |976    |\n",
      "|DSD/Code Enforcement|Zoning Business in Resident Area            |70.9     |90     |\n",
      "|DSD/Code Enforcement|Water No Services                           |69.5     |11     |\n",
      "|DSD/Code Enforcement|Discharge Into Pub. Waters/St               |69.3     |1      |\n",
      "|DSD/Code Enforcement|Zoning: Multi-Family In Single              |67.8     |42     |\n",
      "+--------------------+--------------------------------------------+---------+-------+\n",
      "only showing top 40 rows\n",
      "\n",
      "+--------------------+--------------------------------------------+---------+-------+\n",
      "|department          |service_request_type                        |days_late|n_cases|\n",
      "+--------------------+--------------------------------------------+---------+-------+\n",
      "|DSD/Code Enforcement|Zoning: Recycle Yard                        |273.6    |75     |\n",
      "|DSD/Code Enforcement|Zoning: Junk Yards                          |251.9    |146    |\n",
      "|DSD/Code Enforcement|Donation Container Enforcement              |201.7    |82     |\n",
      "|DSD/Code Enforcement|Structure/Housing Maintenance               |182.4    |30     |\n",
      "|DSD/Code Enforcement|Graffiti: Private Property (Corridors)      |175.1    |3      |\n",
      "|DSD/Code Enforcement|Storage of Used Mattress                    |164.0    |7      |\n",
      "|DSD/Code Enforcement|Labeling for Used Mattress                  |162.4    |7      |\n",
      "|DSD/Code Enforcement|Record Keeping of Used Mattresses           |154.0    |7      |\n",
      "|DSD/Code Enforcement|Signage Requied for Sale of Used Mattr      |151.6    |12     |\n",
      "|DSD/Code Enforcement|License Requied Used Mattress Sales         |128.8    |7      |\n",
      "|DSD/Code Enforcement|Vendors                                     |127.3    |103    |\n",
      "|DSD/Code Enforcement|Curbstoning                                 |121.8    |100    |\n",
      "|DSD/Code Enforcement|DSDB Ordered/Hold Harmless/Regular-ALL      |119.8    |40     |\n",
      "|DSD/Code Enforcement|CPS Energy Wood Poles                       |115.2    |1      |\n",
      "|DSD/Code Enforcement|Used Mattress Inspection                    |108.1    |16     |\n",
      "|DSD/Code Enforcement|DSDB Ordered/Hold Harmless/Regular: Main    |106.4    |86     |\n",
      "|DSD/Code Enforcement|DSDB Ordered/Hold Harmless/Regular: ASEC    |104.7    |41     |\n",
      "|DSD/Code Enforcement|Zoning: Mobile Homes                        |103.8    |5      |\n",
      "|DSD/Code Enforcement|Certificates of Occupancy                   |103.3    |91     |\n",
      "|DSD/Code Enforcement|Zoning: Setbacks                            |98.4     |80     |\n",
      "|DSD/Code Enforcement|Wasting Water (Leaks)                       |91.3     |4      |\n",
      "|DSD/Code Enforcement|Street Light New Development                |91.1     |16     |\n",
      "|DSD/Code Enforcement|Zoning: District Requirement                |89.3     |241    |\n",
      "|DSD/Code Enforcement|Permits Building                            |84.4     |1413   |\n",
      "|DSD/Code Enforcement|Vacant Lot: Over 12\"\"                       |82.1     |1      |\n",
      "|Customer Service    |Complaint                                   |81.5     |939    |\n",
      "|DSD/Code Enforcement|Low Hanging Limbs on Streets/Sidewalk       |78.6     |19     |\n",
      "|Parks & Recreation  |Major Park Improvement Install              |75.8     |17     |\n",
      "|DSD/Code Enforcement|Zoning: Outside Storage                     |74.2     |16     |\n",
      "|DSD/Code Enforcement|Dart Preliminary Inspection                 |74.0     |8      |\n",
      "|DSD/Code Enforcement|Dumpsters: Maintenance/Sanitation           |73.2     |38     |\n",
      "|DSD/Code Enforcement|Used/Scrap Tire Facility Periodic Inspection|72.9     |8      |\n",
      "|DSD/Code Enforcement|\"Vacant Lot-State (12\"\")\"                   |72.1     |2      |\n",
      "|Animal Care Services|Animal Permits Request                      |72.0     |1218   |\n",
      "|DSD/Code Enforcement|No Address Posted                           |72.0     |754    |\n",
      "|Animal Care Services|Public Nuisance(Own Animal)                 |71.2     |976    |\n",
      "|DSD/Code Enforcement|Zoning Business in Resident Area            |70.9     |90     |\n",
      "|DSD/Code Enforcement|Water No Services                           |69.5     |11     |\n",
      "|DSD/Code Enforcement|Discharge Into Pub. Waters/St               |69.3     |1      |\n",
      "|DSD/Code Enforcement|Zoning: Multi-Family In Single              |67.8     |42     |\n",
      "+--------------------+--------------------------------------------+---------+-------+\n",
      "only showing top 40 rows\n",
      "\n"
     ]
    }
   ],
   "source": [
    "(case_df.filter(\"case_closed\").filter(\"case_late\").groupby(\"department\", \"service_request_type\").agg(avg(\"num_days_late\").alias(\"days_late\"), count(\"*\").alias(\"n_cases\"))\n",
    "    .withColumn(\"days_late\", round(col(\"days_late\"), 1)).sort(desc(\"days_late\")).show(40, truncate=False)\n",
    ")\n",
    "\n",
    "# after using fmt-clipboard in terminal:\n",
    "(\n",
    "    case_df.filter(\"case_closed\")\n",
    "    .filter(\"case_late\")\n",
    "    .groupby(\"department\", \"service_request_type\")\n",
    "    .agg(avg(\"num_days_late\").alias(\"days_late\"), count(\"*\").alias(\"n_cases\"))\n",
    "    .withColumn(\"days_late\", round(col(\"days_late\"), 1))\n",
    "    .sort(desc(\"days_late\"))\n",
    "    .show(40, truncate=False)\n",
    ")\n"
   ]
  },
  {
   "cell_type": "markdown",
   "metadata": {},
   "source": [
    "# Explore Exercises\n",
    "\n",
    "### 1. How many different cases are there, by department?"
   ]
  },
  {
   "cell_type": "code",
   "execution_count": 36,
   "metadata": {},
   "outputs": [
    {
     "data": {
      "text/plain": [
       "department\n",
       "City Council                    34\n",
       "Customer Service              2889\n",
       "Metro Health                  5313\n",
       "Parks & Recreation           19964\n",
       "Trans & Cap Improvements     97841\n",
       "Animal Care Services        119362\n",
       "Solid Waste                 286287\n",
       "DSD/Code Enforcement        323579\n",
       "Name: count, dtype: int64"
      ]
     },
     "execution_count": 36,
     "metadata": {},
     "output_type": "execute_result"
    }
   ],
   "source": [
    "(case_df.groupby('department')\n",
    " .count()\n",
    " .toPandas()\n",
    " .set_index('department')\n",
    " ['count']\n",
    " .sort_values()\n",
    ")"
   ]
  },
  {
   "cell_type": "code",
   "execution_count": 37,
   "metadata": {},
   "outputs": [
    {
     "data": {
      "image/png": "[encoded data removed]",
      "text/plain": [
       "<Figure size 936x504 with 1 Axes>"
      ]
     },
     "metadata": {},
     "output_type": "display_data"
    }
   ],
   "source": [
    "import matplotlib as mpl\n",
    "import matplotlib.pyplot as plt\n",
    "import seaborn as sns\n",
    "plt.ion()\n",
    "plt.rc('figure', figsize=(13, 7))\n",
    "plt.rc('font', size=14)\n",
    "plt.style.use('ggplot')\n",
    "\n",
    "def format_number(x, *args):\n",
    "    return '{:.0f}k'.format(x / 1000)\n",
    "\n",
    "(case_df.groupby('department')\n",
    " .count()\n",
    " .toPandas()\n",
    " .set_index('department')\n",
    " ['count']\n",
    " .sort_values()\n",
    " .plot.barh()\n",
    ")\n",
    "plt.gca().set(ylabel='', xlabel='Total # of Cases', title='# of Cases By Department')\n",
    "plt.gca().xaxis.set_major_formatter(mpl.ticker.FuncFormatter(format_number))"
   ]
  },
  {
   "cell_type": "markdown",
   "metadata": {},
   "source": [
    "### 2. Does the percentage of cases that are late vary by department?"
   ]
  },
  {
   "cell_type": "code",
   "execution_count": 38,
   "metadata": {},
   "outputs": [
    {
     "data": {
      "text/plain": [
       "[Text(0, 0.5, ''),\n",
       " Text(0.5, 0, '% of Cases Closed After Due Date'),\n",
       " Text(0.5, 1.0, '% of Late Cases By Department')]"
      ]
     },
     "execution_count": 38,
     "metadata": {},
     "output_type": "execute_result"
    },
    {
     "data": {
      "image/png": "[encoded data removed]",
      "text/plain": [
       "<Figure size 936x504 with 1 Axes>"
      ]
     },
     "metadata": {},
     "output_type": "display_data"
    }
   ],
   "source": [
    "(case_df.withColumn('case_late', col('case_late').cast('int'))\n",
    " .groupby('department')\n",
    " .agg(avg('case_late').alias('p_cases_late'))\n",
    " .toPandas()\n",
    " .set_index('department')\n",
    " .p_cases_late\n",
    " .sort_values()\n",
    " .plot.barh()\n",
    ")\n",
    "plt.gca().xaxis.set_major_formatter(mpl.ticker.FuncFormatter('{:.0%}'.format))\n",
    "plt.gca().set(ylabel='', xlabel='% of Cases Closed After Due Date', title='% of Late Cases By Department')"
   ]
  },
  {
   "cell_type": "markdown",
   "metadata": {},
   "source": [
    "### 3. On average, how late are the late cases by department?"
   ]
  },
  {
   "cell_type": "code",
   "execution_count": 40,
   "metadata": {},
   "outputs": [
    {
     "data": {
      "text/plain": [
       "[Text(0, 0.5, ''),\n",
       " Text(0.5, 0, 'Avg # of Days Late'),\n",
       " Text(0.5, 1.0, 'How late are the late cases?')]"
      ]
     },
     "execution_count": 40,
     "metadata": {},
     "output_type": "execute_result"
    },
    {
     "data": {
      "image/png": "[encoded data removed]",
      "text/plain": [
       "<Figure size 936x504 with 1 Axes>"
      ]
     },
     "metadata": {},
     "output_type": "display_data"
    }
   ],
   "source": [
    "(case_df.filter('case_late')\n",
    " .groupby('department')\n",
    " .agg(avg('num_days_late').alias('avg_days_late'))\n",
    " .toPandas()\n",
    " .set_index('department')\n",
    " .avg_days_late\n",
    " .sort_values()\n",
    " .plot.barh()\n",
    ")\n",
    "plt.gca().set(ylabel='', xlabel='Avg # of Days Late', title='How late are the late cases?')"
   ]
  },
  {
   "cell_type": "markdown",
   "metadata": {},
   "source": [
    "### 4. What is the service type that is the most late? Just for Parks & Rec?"
   ]
  },
  {
   "cell_type": "code",
   "execution_count": 41,
   "metadata": {},
   "outputs": [
    {
     "data": {
      "text/plain": [
       "[Text(0, 0.5, ''),\n",
       " Text(0.5, 0, '# of Days Late'),\n",
       " Text(0.5, 1.0, 'Most Late Cases For Parks & Recreation')]"
      ]
     },
     "execution_count": 41,
     "metadata": {},
     "output_type": "execute_result"
    },
    {
     "data": {
      "image/png": "[encoded data removed]",
      "text/plain": [
       "<Figure size 936x504 with 1 Axes>"
      ]
     },
     "metadata": {},
     "output_type": "display_data"
    }
   ],
   "source": [
    "(case_df.filter(case_df.department == 'Parks & Recreation')\n",
    " .groupby('service_request_type')\n",
    " .agg(mean('num_days_late').alias('avg_days_late'))\n",
    " .sort(desc('avg_days_late'))\n",
    " .limit(8) # limit in spark, not pandas\n",
    " .toPandas()\n",
    " .set_index('service_request_type')\n",
    " .plot.barh(ec='black', width=.9)\n",
    ")\n",
    "plt.gca().set(title='Most Late Cases For Parks & Recreation', xlabel='# of Days Late', ylabel='')"
   ]
  },
  {
   "cell_type": "markdown",
   "metadata": {},
   "source": [
    "### 5. For the DSD/Code Enforcement department, what are the most common service request types? Look at other departments too."
   ]
  },
  {
   "cell_type": "code",
   "execution_count": 43,
   "metadata": {},
   "outputs": [
    {
     "data": {
      "image/png": "[encoded data removed]",
      "text/plain": [
       "<Figure size 936x504 with 1 Axes>"
      ]
     },
     "metadata": {},
     "output_type": "display_data"
    }
   ],
   "source": [
    "(case_df.filter(expr('department == \"DSD/Code Enforcement\"'))\n",
    " .groupby('service_request_type')\n",
    " .count()\n",
    " .sort(desc('count'))\n",
    " .limit(8)\n",
    " .toPandas()\n",
    " .set_index('service_request_type')\n",
    " ['count']\n",
    " .plot.barh(width=.9, ec='black')\n",
    ")\n",
    "plt.gca().set(ylabel='', xlabel='# of Requests', title='Most Common Service Request Types for DSD/Code Enforcement')\n",
    "plt.gca().xaxis.set_major_formatter(mpl.ticker.FuncFormatter(format_number))"
   ]
  },
  {
   "cell_type": "markdown",
   "metadata": {},
   "source": [
    "### 6. Does whether or not its a weekend matter for when a case is opened/closed?"
   ]
  },
  {
   "cell_type": "code",
   "execution_count": 45,
   "metadata": {},
   "outputs": [
    {
     "data": {
      "image/png": "[encoded data removed]",
      "text/plain": [
       "<Figure size 936x504 with 1 Axes>"
      ]
     },
     "metadata": {},
     "output_type": "display_data"
    }
   ],
   "source": [
    "(case_df.withColumn('weekday', date_format('case_opened_date', 'u-E'))\n",
    " .groupby('weekday')\n",
    " .count()\n",
    " .na.drop()\n",
    " .toPandas()\n",
    " .set_index('weekday')\n",
    " ['count']\n",
    " .sort_index()\n",
    " .plot.bar(width=.95, ec='black')\n",
    ")\n",
    "plt.xticks(rotation=0)\n",
    "plt.gca().set(xlabel='', ylabel='# Cases', title='Total # of Cases Opened By Weekday')\n",
    "plt.gca().yaxis.set_major_formatter(mpl.ticker.FuncFormatter(format_number))"
   ]
  },
  {
   "cell_type": "markdown",
   "metadata": {},
   "source": [
    "### 7. On average, how many cases are opened a day for the Customer Service department?"
   ]
  },
  {
   "cell_type": "code",
   "execution_count": 46,
   "metadata": {},
   "outputs": [
    {
     "data": {
      "image/png": "[encoded data removed]",
      "text/plain": [
       "<Figure size 936x504 with 1 Axes>"
      ]
     },
     "metadata": {},
     "output_type": "display_data"
    }
   ],
   "source": [
    "def plot_cases(df):\n",
    "    s = df['count']\n",
    "    avg = s.mean()\n",
    "    s.value_counts().sort_index().plot.bar()\n",
    "    plt.text(8, 50, f'Average Cases Opened Per Day:\\n{avg:.2f}', ha='left', size=14)\n",
    "\n",
    "\n",
    "(case_df.withColumn('case_opened_date', expr('date(case_opened_date)'))\n",
    " .filter(case_df.department == 'Customer Service')\n",
    " .groupby('case_opened_date')\n",
    " .count()\n",
    " .toPandas()\n",
    " .pipe(plot_cases)\n",
    ")"
   ]
  },
  {
   "cell_type": "markdown",
   "metadata": {},
   "source": [
    "### 8. Does the number of service requests for the solid waste department vary by day of the week?"
   ]
  },
  {
   "cell_type": "code",
   "execution_count": 50,
   "metadata": {},
   "outputs": [
    {
     "data": {
      "image/png": "[encoded data removed]",
      "text/plain": [
       "<Figure size 1152x864 with 2 Axes>"
      ]
     },
     "metadata": {},
     "output_type": "display_data"
    }
   ],
   "source": [
    "fig, (ax1, ax2) = plt.subplots(2, 1, figsize=(16, 12))\n",
    "\n",
    "(\n",
    "    case_df.withColumn(\"weekday\", date_format(\"case_opened_date\", \"u-E\"))\n",
    "    .filter(expr('department == \"Solid Waste\"'))\n",
    "    .groupby(\"weekday\")\n",
    "    .count()\n",
    "    .na.drop()\n",
    "    .toPandas()\n",
    "    .set_index('weekday')['count']\n",
    "    .sort_index()\n",
    "    .plot.bar(ax=ax1)\n",
    ")\n",
    "ax1.set(\n",
    "    title='Opened Cases By Weekday'\n",
    ")\n",
    "plt.xticks(rotation=0)\n",
    "\n",
    "(\n",
    "    case_df.withColumn(\"weekday\", date_format(\"case_closed_date\", \"u-E\"))\n",
    "    .filter(expr('department == \"Solid Waste\"'))\n",
    "    .groupby(\"weekday\")\n",
    "    .count()\n",
    "    .na.drop()\n",
    "    .toPandas()\n",
    "    .set_index('weekday')['count']\n",
    "    .sort_index()\n",
    "    .plot.bar(ax=ax2)\n",
    ")\n",
    "ax2.set(\n",
    "    title='Closed Cases By Weekday'\n",
    ")\n",
    "fig.tight_layout()"
   ]
  },
  {
   "cell_type": "code",
   "execution_count": null,
   "metadata": {},
   "outputs": [],
   "source": []
  }
 ],
 "metadata": {
  "kernelspec": {
   "display_name": "Python 3",
   "language": "python",
   "name": "python3"
  },
  "language_info": {
   "codemirror_mode": {
    "name": "ipython",
    "version": 3
   },
   "file_extension": ".py",
   "mimetype": "text/x-python",
   "name": "python",
   "nbconvert_exporter": "python",
   "pygments_lexer": "ipython3",
   "version": "3.7.4"
  }
 },
 "nbformat": 4,
 "nbformat_minor": 4
}
